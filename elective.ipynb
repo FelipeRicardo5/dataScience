{
  "nbformat": 4,
  "nbformat_minor": 0,
  "metadata": {
    "colab": {
      "provenance": []
    },
    "kernelspec": {
      "name": "python3",
      "display_name": "Python 3"
    },
    "language_info": {
      "name": "python"
    }
  },
  "cells": [
    {
      "cell_type": "code",
      "execution_count": 6,
      "metadata": {
        "id": "Fonbd67VlGlT"
      },
      "outputs": [],
      "source": [
        "# Importando bibliotecas estatísticas e de visualização\n",
        "import pandas as pd\n",
        "import numpy as np\n",
        "from scipy import stats\n",
        "import matplotlib.pyplot as plt\n",
        "import seaborn as sns\n"
      ]
    },
    {
      "cell_type": "code",
      "source": [
        "# Grupos de dados\n",
        "grupo1 = [12, 15, 18, 22, 22, 25, 28, 30, 35, 40]\n",
        "grupo2 = [15, 18, 21, 25, 25, 28, 31, 33, 38, 43]"
      ],
      "metadata": {
        "id": "PIFL_1_MnCi5"
      },
      "execution_count": 4,
      "outputs": []
    },
    {
      "cell_type": "code",
      "source": [
        "# Cálculo de média, variância e IQR\n",
        "def resumo_estatistico(grupo):\n",
        "    media = np.mean(grupo)\n",
        "    variancia = np.var(grupo, ddof=1)\n",
        "    iqr = stats.iqr(grupo)\n",
        "    return media, variancia, iqr\n",
        "\n",
        "media1, var1, iqr1 = resumo_estatistico(grupo1)\n",
        "media2, var2, iqr2 = resumo_estatistico(grupo2)"
      ],
      "metadata": {
        "id": "LbTz-vcnoMK2"
      },
      "execution_count": 7,
      "outputs": []
    },
    {
      "cell_type": "code",
      "source": [
        "print(f\"Grupo 1 - Média: {media1}, Variância: {var1}, IQR: {iqr1}\")\n",
        "print(f\"Grupo 2 - Média: {media2}, Variância: {var2}, IQR: {iqr2}\")"
      ],
      "metadata": {
        "colab": {
          "base_uri": "https://localhost:8080/"
        },
        "id": "CdhL0YDRoMJG",
        "outputId": "48340ad6-c356-4c1a-9019-fcaf19ef7610"
      },
      "execution_count": 8,
      "outputs": [
        {
          "output_type": "stream",
          "name": "stdout",
          "text": [
            "Grupo 1 - Média: 24.7, Variância: 77.12222222222223, IQR: 10.5\n",
            "Grupo 2 - Média: 27.7, Variância: 77.12222222222223, IQR: 10.5\n"
          ]
        }
      ]
    },
    {
      "cell_type": "code",
      "source": [
        "# Teste de normalidade (Shapiro-Wilk)\n",
        "shapiro1 = stats.shapiro(grupo1)\n",
        "shapiro2 = stats.shapiro(grupo2)"
      ],
      "metadata": {
        "id": "z9K2i5QxoWxH"
      },
      "execution_count": 9,
      "outputs": []
    },
    {
      "cell_type": "code",
      "source": [
        "print(\"\\nTeste de Normalidade (Shapiro-Wilk):\")\n",
        "print(f\"Grupo 1 - Estatística: {shapiro1.statistic}, p-valor: {shapiro1.pvalue}\")\n",
        "print(f\"Grupo 2 - Estatística: {shapiro2.statistic}, p-valor: {shapiro2.pvalue}\")"
      ],
      "metadata": {
        "colab": {
          "base_uri": "https://localhost:8080/"
        },
        "id": "RNB1K60SoMHZ",
        "outputId": "b14f1b2a-4265-4548-da64-1d5941f93407"
      },
      "execution_count": 10,
      "outputs": [
        {
          "output_type": "stream",
          "name": "stdout",
          "text": [
            "\n",
            "Teste de Normalidade (Shapiro-Wilk):\n",
            "Grupo 1 - Estatística: 0.9793704576296214, p-valor: 0.9617099611024161\n",
            "Grupo 2 - Estatística: 0.9793704576296214, p-valor: 0.9617099611024161\n"
          ]
        }
      ]
    },
    {
      "cell_type": "code",
      "source": [
        "# Escolha do teste com base na normalidade\n",
        "if shapiro1.pvalue > 0.05 and shapiro2.pvalue > 0.05:\n",
        "    # Teste t de Student\n",
        "    ttest = stats.ttest_ind(grupo1, grupo2)\n",
        "    print(\"\\nTeste t de Student:\")\n",
        "    print(f\"Estatística t: {ttest.statistic}, p-valor: {ttest.pvalue}\")\n",
        "else:\n",
        "    # Teste Mann-Whitney\n",
        "    mw = stats.mannwhitneyu(grupo1, grupo2)\n",
        "    print(\"\\nTeste de Mann-Whitney:\")\n",
        "    print(f\"Estatística U: {mw.statistic}, p-valor: {mw.pvalue}\")\n"
      ],
      "metadata": {
        "colab": {
          "base_uri": "https://localhost:8080/"
        },
        "id": "Zdl4z73xoMFI",
        "outputId": "c550a81b-e1dc-446e-9151-d74662c59829"
      },
      "execution_count": 11,
      "outputs": [
        {
          "output_type": "stream",
          "name": "stdout",
          "text": [
            "\n",
            "Teste t de Student:\n",
            "Estatística t: -0.7638647856445084, p-valor: 0.4548448024733782\n"
          ]
        }
      ]
    },
    {
      "cell_type": "code",
      "source": [
        "# Visualização: histogramas\n",
        "plt.figure(figsize=(12, 5))"
      ],
      "metadata": {
        "colab": {
          "base_uri": "https://localhost:8080/",
          "height": 52
        },
        "id": "2URoVjcPoMDH",
        "outputId": "6898288a-0863-4978-957c-15cd084519e7"
      },
      "execution_count": 12,
      "outputs": [
        {
          "output_type": "execute_result",
          "data": {
            "text/plain": [
              "<Figure size 1200x500 with 0 Axes>"
            ]
          },
          "metadata": {},
          "execution_count": 12
        },
        {
          "output_type": "display_data",
          "data": {
            "text/plain": [
              "<Figure size 1200x500 with 0 Axes>"
            ]
          },
          "metadata": {}
        }
      ]
    },
    {
      "cell_type": "code",
      "source": [
        "plt.subplot(1, 2, 1)\n",
        "sns.histplot(grupo1, bins=5, kde=True, color='blue')\n",
        "plt.title('Distribuição - Grupo 1')"
      ],
      "metadata": {
        "colab": {
          "base_uri": "https://localhost:8080/",
          "height": 469
        },
        "id": "h1iVDu5_oMAu",
        "outputId": "90b8a26e-80e6-4795-c1d3-92a18e89296d"
      },
      "execution_count": 13,
      "outputs": [
        {
          "output_type": "execute_result",
          "data": {
            "text/plain": [
              "Text(0.5, 1.0, 'Distribuição - Grupo 1')"
            ]
          },
          "metadata": {},
          "execution_count": 13
        },
        {
          "output_type": "display_data",
          "data": {
            "text/plain": [
              "<Figure size 640x480 with 1 Axes>"
            ],
            "image/png": "[encoded data removed]"
          },
          "metadata": {}
        }
      ]
    },
    {
      "cell_type": "code",
      "source": [
        "plt.tight_layout()\n",
        "plt.show()"
      ],
      "metadata": {
        "colab": {
          "base_uri": "https://localhost:8080/",
          "height": 34
        },
        "id": "zC_2aLiBoL9_",
        "outputId": "c179aa18-976c-477d-c1b6-83b532092e90"
      },
      "execution_count": 14,
      "outputs": [
        {
          "output_type": "display_data",
          "data": {
            "text/plain": [
              "<Figure size 640x480 with 0 Axes>"
            ]
          },
          "metadata": {}
        }
      ]
    },
    {
      "cell_type": "code",
      "source": [
        "# Boxplot comparando os grupos\n",
        "plt.figure(figsize=(6, 5))\n",
        "sns.boxplot(data=[grupo1, grupo2])\n",
        "plt.xticks([0, 1], ['Grupo 1', 'Grupo 2'])\n",
        "plt.title('Boxplot Comparando Grupos')\n",
        "plt.show()"
      ],
      "metadata": {
        "colab": {
          "base_uri": "https://localhost:8080/",
          "height": 468
        },
        "id": "YuUwRGVSoL7-",
        "outputId": "91bcbfa7-bdc6-4800-eb17-31600047ca3c"
      },
      "execution_count": 15,
      "outputs": [
        {
          "output_type": "display_data",
          "data": {
            "text/plain": [
              "<Figure size 600x500 with 1 Axes>"
            ],
            "image/png": "[encoded data removed]"
          },
          "metadata": {}
        }
      ]
    }
  ]
}
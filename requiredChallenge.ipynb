{
  "nbformat": 4,
  "nbformat_minor": 0,
  "metadata": {
    "colab": {
      "provenance": []
    },
    "kernelspec": {
      "name": "python3",
      "display_name": "Python 3"
    },
    "language_info": {
      "name": "python"
    }
  },
  "cells": [
    {
      "cell_type": "code",
      "execution_count": 1,
      "metadata": {
        "id": "DR2D5SuppxcD"
      },
      "outputs": [],
      "source": [
        "# Importando as bibliotecas necessárias\n",
        "import pandas as pd\n",
        "import numpy as np"
      ]
    },
    {
      "cell_type": "code",
      "source": [
        "# Criando os dados de vendas e despesas em um DataFrame\n",
        "#hashtag: Criando a tabela com valores, incluindo valores ausentes (NA)\n",
        "dados = {\n",
        "    'Região': ['Norte', 'Norte', 'Sul', 'Sul', 'Norte'],\n",
        "    'Mês': ['Jan', 'Fev', 'Jan', 'Fev', 'Mar'],\n",
        "    'Vendas': [1500, np.nan, 2200, 1800, 2000],\n",
        "    'Despesas': [300, 250, np.nan, 400, 350]\n",
        "}\n",
        "\n",
        "df = pd.DataFrame(dados)"
      ],
      "metadata": {
        "id": "qBuUlrlUp43N"
      },
      "execution_count": 2,
      "outputs": []
    },
    {
      "cell_type": "code",
      "source": [
        "# Salvando o arquivo como .xlsx\n",
        "#hashtag: Salvando o arquivo como Excel\n",
        "df.to_excel('vendas.xlsx', index=False)"
      ],
      "metadata": {
        "id": "o1SbgwiMp7Bt"
      },
      "execution_count": 3,
      "outputs": []
    },
    {
      "cell_type": "code",
      "source": [
        "# Carregando o arquivo .xlsx\n",
        "#hashtag: Carregando os dados do Excel\n",
        "df = pd.read_excel('vendas.xlsx')"
      ],
      "metadata": {
        "id": "9THvUNWXp8d1"
      },
      "execution_count": 4,
      "outputs": []
    },
    {
      "cell_type": "code",
      "source": [
        "# Inspecionando os dados\n",
        "print(\"Dados Originais:\")\n",
        "print(df)\n"
      ],
      "metadata": {
        "colab": {
          "base_uri": "https://localhost:8080/"
        },
        "id": "dapeIx86p-UO",
        "outputId": "d954e755-67ad-469d-938e-767814af01b3"
      },
      "execution_count": 5,
      "outputs": [
        {
          "output_type": "stream",
          "name": "stdout",
          "text": [
            "Dados Originais:\n",
            "  Região  Mês  Vendas  Despesas\n",
            "0  Norte  Jan  1500.0     300.0\n",
            "1  Norte  Fev     NaN     250.0\n",
            "2    Sul  Jan  2200.0       NaN\n",
            "3    Sul  Fev  1800.0     400.0\n",
            "4  Norte  Mar  2000.0     350.0\n"
          ]
        }
      ]
    },
    {
      "cell_type": "code",
      "source": [
        "# Substituindo valores ausentes\n",
        "#hashtag: Substituindo NA da coluna Vendas pela mediana\n",
        "df['Despesas'] = df['Despesas'].fillna(df['Despesas'].mean())"
      ],
      "metadata": {
        "id": "8_wGwcNBp__s"
      },
      "execution_count": 13,
      "outputs": []
    },
    {
      "cell_type": "code",
      "source": [
        "#hashtag: Substituindo NA da coluna Despesas pela média\n",
        "df['Despesas'] = df['Despesas'].fillna(df['Despesas'].mean())"
      ],
      "metadata": {
        "id": "YPe8NmdPqBqG"
      },
      "execution_count": 14,
      "outputs": []
    },
    {
      "cell_type": "code",
      "source": [
        "# Agrupando por Região e Mês\n",
        "agrupado = df.groupby(['Região', 'Mês']).agg({\n",
        "    'Vendas': 'sum',\n",
        "    'Despesas': 'mean'\n",
        "}).reset_index()"
      ],
      "metadata": {
        "id": "eFY2Ni54qD_9"
      },
      "execution_count": 8,
      "outputs": []
    },
    {
      "cell_type": "code",
      "source": [
        "print(\"\\nDados Agrupados:\")\n",
        "print(agrupado)"
      ],
      "metadata": {
        "colab": {
          "base_uri": "https://localhost:8080/"
        },
        "id": "0JvKonmUqFfN",
        "outputId": "b76f0d05-f432-4619-8f7f-19f7b652e400"
      },
      "execution_count": 16,
      "outputs": [
        {
          "output_type": "stream",
          "name": "stdout",
          "text": [
            "\n",
            "Dados Agrupados:\n",
            "  Região  Mês  Vendas  Despesas\n",
            "0  Norte  Fev  1900.0     250.0\n",
            "1  Norte  Jan  1500.0     300.0\n",
            "2  Norte  Mar  2000.0     350.0\n",
            "3    Sul  Fev  1800.0     400.0\n",
            "4    Sul  Jan  2200.0     325.0\n"
          ]
        }
      ]
    },
    {
      "cell_type": "code",
      "source": [
        "# Combinando colunas Vendas e Despesas\n",
        "#hashtag: Combinação horizontal das colunas numéricas\n",
        "combinado = np.hstack([df[['Vendas']].values, df[['Despesas']].values])\n",
        "print(\"\\nColunas Combinadas (Vendas e Despesas):\")\n",
        "print(combinado)"
      ],
      "metadata": {
        "colab": {
          "base_uri": "https://localhost:8080/"
        },
        "id": "kHJgGjmDqHL9",
        "outputId": "4794e173-8de7-4d66-c4ca-30e1a2754e17"
      },
      "execution_count": 10,
      "outputs": [
        {
          "output_type": "stream",
          "name": "stdout",
          "text": [
            "\n",
            "Colunas Combinadas (Vendas e Despesas):\n",
            "[[1500.  300.]\n",
            " [1900.  250.]\n",
            " [2200.  325.]\n",
            " [1800.  400.]\n",
            " [2000.  350.]]\n"
          ]
        }
      ]
    },
    {
      "cell_type": "code",
      "source": [
        "# Sumário estatístico\n",
        "#hashtag: Estatísticas descritivas para colunas numéricas\n",
        "print(\"\\nSumário Estatístico:\")\n",
        "print(df.describe())"
      ],
      "metadata": {
        "colab": {
          "base_uri": "https://localhost:8080/"
        },
        "id": "TohAwySaqI69",
        "outputId": "dce8fc82-54d8-4679-e76b-6ca227c4c684"
      },
      "execution_count": 11,
      "outputs": [
        {
          "output_type": "stream",
          "name": "stdout",
          "text": [
            "\n",
            "Sumário Estatístico:\n",
            "            Vendas    Despesas\n",
            "count     5.000000    5.000000\n",
            "mean   1880.000000  325.000000\n",
            "std     258.843582   55.901699\n",
            "min    1500.000000  250.000000\n",
            "25%    1800.000000  300.000000\n",
            "50%    1900.000000  325.000000\n",
            "75%    2000.000000  350.000000\n",
            "max    2200.000000  400.000000\n"
          ]
        }
      ]
    }
  ]
}